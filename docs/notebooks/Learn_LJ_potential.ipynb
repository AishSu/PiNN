{
 "cells": [
  {
   "cell_type": "markdown",
   "metadata": {},
   "source": [
    "# Learning a LJ potential\n",
    "\n",
    "This notebook showcases the usage of PiNN with a toy problem of learning a Lennard-Jones\n",
    "potential with a hand-generated dataset.  \n",
    "It serves as a basic test, and demonstration of the workflow with PiNN."
   ]
  },
  {
   "cell_type": "code",
   "execution_count": 1,
   "metadata": {},
   "outputs": [],
   "source": [
    "%matplotlib inline"
   ]
  },
  {
   "cell_type": "code",
   "execution_count": 3,
   "metadata": {},
   "outputs": [],
   "source": [
    "import os, warnings\n",
    "import numpy as np\n",
    "import tensorflow as tf\n",
    "import matplotlib.pyplot as plt\n",
    "from ase import Atoms\n",
    "from ase.calculators.lj import LennardJones\n",
    "os.environ['CUDA_VISIBLE_DEVICES'] = ''\n",
    "index_warning = 'Converting sparse IndexedSlices'\n",
    "warnings.filterwarnings('ignore', index_warning)"
   ]
  },
  {
   "cell_type": "markdown",
   "metadata": {},
   "source": [
    "## Reference data"
   ]
  },
  {
   "cell_type": "code",
   "execution_count": 4,
   "metadata": {},
   "outputs": [],
   "source": [
    "# Helper function: get the position given PES dimension(s)\n",
    "def three_body_sample(atoms, a, r):\n",
    "    x = a * np.pi / 180\n",
    "    pos = [[0, 0, 0],\n",
    "           [0, 2, 0],\n",
    "           [0, r*np.cos(x), r*np.sin(x)]]\n",
    "    atoms.set_positions(pos)\n",
    "    return atoms"
   ]
  },
  {
   "cell_type": "code",
   "execution_count": 5,
   "metadata": {},
   "outputs": [],
   "source": [
    "atoms = Atoms('H3', calculator=LennardJones())\n",
    "\n",
    "na, nr = 50, 50\n",
    "arange = np.linspace(30,180,na)\n",
    "rrange = np.linspace(1,3,nr)\n",
    "\n",
    "# Truth\n",
    "agrid, rgrid = np.meshgrid(arange, rrange)\n",
    "egrid = np.zeros([na, nr])\n",
    "for i in range(na):\n",
    "    for j in range(nr):\n",
    "        atoms = three_body_sample(atoms, arange[i], rrange[j])\n",
    "        egrid[i,j] = atoms.get_potential_energy()\n",
    "        \n",
    "# Samples\n",
    "nsample = 100\n",
    "asample, rsample = [], []\n",
    "distsample = []\n",
    "data = {'e_data':[], 'f_data':[], 'elems':[], 'coord':[]}\n",
    "for i in range(nsample):\n",
    "    a, r = np.random.choice(arange), np.random.choice(rrange)\n",
    "    atoms = three_body_sample(atoms, a, r)\n",
    "    dist = atoms.get_all_distances()\n",
    "    dist = dist[np.nonzero(dist)]\n",
    "    data['e_data'].append(atoms.get_potential_energy())\n",
    "    data['f_data'].append(atoms.get_forces())\n",
    "    data['coord'].append(atoms.get_positions())\n",
    "    data['elems'].append(atoms.numbers)\n",
    "    asample.append(a)\n",
    "    rsample.append(r)\n",
    "    distsample.append(dist)"
   ]
  },
  {
   "cell_type": "code",
   "execution_count": 6,
   "metadata": {},
   "outputs": [
    {
     "data": {
      "text/plain": [
       "<matplotlib.colorbar.Colorbar at 0x7fc5ca3a4ba8>"
      ]
     },
     "execution_count": 6,
     "metadata": {},
     "output_type": "execute_result"
    },
    {
     "data": {
      "image/png": "[encoded data removed]",
      "text/plain": [
       "<Figure size 432x288 with 2 Axes>"
      ]
     },
     "metadata": {
      "needs_background": "light"
     },
     "output_type": "display_data"
    }
   ],
   "source": [
    "plt.pcolormesh(agrid, rgrid, egrid)\n",
    "plt.plot(asample, rsample, 'rx')\n",
    "plt.colorbar()"
   ]
  },
  {
   "cell_type": "markdown",
   "metadata": {},
   "source": [
    "## Dataset from numpy arrays"
   ]
  },
  {
   "cell_type": "code",
   "execution_count": 7,
   "metadata": {
    "scrolled": true
   },
   "outputs": [],
   "source": [
    "from pinn.models import potential_model\n",
    "from pinn.networks import pinet\n",
    "from pinn.io import sparse_batch, load_numpy\n",
    "from pinn.calculator import PiNN_calc"
   ]
  },
  {
   "cell_type": "code",
   "execution_count": 8,
   "metadata": {},
   "outputs": [],
   "source": [
    "data = {k:np.array(v) for k,v in data.items()}\n",
    "dataset = lambda: load_numpy(data)\n",
    "\n",
    "train = lambda: dataset()['train'].shuffle(100).repeat().apply(sparse_batch(100))\n",
    "test = lambda: dataset()['test'].repeat().apply(sparse_batch(100))"
   ]
  },
  {
   "cell_type": "markdown",
   "metadata": {},
   "source": [
    "## Training"
   ]
  },
  {
   "cell_type": "markdown",
   "metadata": {},
   "source": [
    "### Model specification"
   ]
  },
  {
   "cell_type": "code",
   "execution_count": 9,
   "metadata": {},
   "outputs": [
    {
     "name": "stdout",
     "output_type": "stream",
     "text": [
      "INFO:tensorflow:Using default config.\n",
      "INFO:tensorflow:Using config: {'_model_dir': '/tmp/PiNet', '_tf_random_seed': None, '_save_summary_steps': 100, '_save_checkpoints_steps': None, '_save_checkpoints_secs': 600, '_session_config': allow_soft_placement: true\n",
      "graph_options {\n",
      "  rewrite_options {\n",
      "    meta_optimizer_iterations: ONE\n",
      "  }\n",
      "}\n",
      ", '_keep_checkpoint_max': 5, '_keep_checkpoint_every_n_hours': 10000, '_log_step_count_steps': 100, '_train_distribute': None, '_device_fn': None, '_protocol': None, '_eval_distribute': None, '_experimental_distribute': None, '_experimental_max_worker_delay_secs': None, '_session_creation_timeout_secs': 7200, '_service': None, '_cluster_spec': ClusterSpec({}), '_task_type': 'worker', '_task_id': 0, '_global_id_in_cluster': 0, '_master': '', '_evaluation_master': '', '_is_chief': True, '_num_ps_replicas': 0, '_num_worker_replicas': 1}\n"
     ]
    }
   ],
   "source": [
    "params={\n",
    "    'model_dir': '/tmp/PiNet',\n",
    "    'network': {\n",
    "        'name': 'PiNet',\n",
    "        'params': {\n",
    "            'ii_nodes':[8,8],\n",
    "            'pi_nodes':[8,8],\n",
    "            'pp_nodes':[8,8],\n",
    "            'out_nodes':[8,8],\n",
    "            'depth': 4,\n",
    "            'rc': 3.0,\n",
    "            'atom_types':[1]}},\n",
    "    'model':{\n",
    "        'name': 'potential_model',\n",
    "        'params': {\n",
    "            'e_dress': {1:-0.3},  # element-specific energy dress\n",
    "            'e_scale': 2, # energy scale for prediction\n",
    "            'e_unit': 1.0,  # output unit of energy dur\n",
    "            'log_e_per_atom': True, # log e_per_atom and its distribution    \n",
    "            'use_force': True}}}      # include force in Loss function\n",
    "model = potential_model(params)"
   ]
  },
  {
   "cell_type": "code",
   "execution_count": 10,
   "metadata": {},
   "outputs": [
    {
     "name": "stdout",
     "output_type": "stream",
     "text": [
      "INFO:tensorflow:Not using Distribute Coordinator.\n",
      "INFO:tensorflow:Running training and evaluation locally (non-distributed).\n",
      "INFO:tensorflow:Start train and evaluate loop. The evaluate will happen after every checkpoint. Checkpoint frequency is determined based on RunConfig arguments: save_checkpoints_steps None or save_checkpoints_secs 600.\n",
      "WARNING:tensorflow:From /home/yunqi/.miniconda/envs/pinn-tf2/lib/python3.6/site-packages/tensorflow/python/ops/resource_variable_ops.py:1666: calling BaseResourceVariable.__init__ (from tensorflow.python.ops.resource_variable_ops) with constraint is deprecated and will be removed in a future version.\n",
      "Instructions for updating:\n",
      "If using Keras pass *_constraint arguments to layers.\n",
      "WARNING:tensorflow:From /home/yunqi/.miniconda/envs/pinn-tf2/lib/python3.6/site-packages/tensorflow/python/training/training_util.py:236: Variable.initialized_value (from tensorflow.python.ops.variables) is deprecated and will be removed in a future version.\n",
      "Instructions for updating:\n",
      "Use Variable.read_value. Variables in 2.X are initialized automatically both in eager and graph (inside tf.defun) contexts.\n",
      "INFO:tensorflow:Calling model_fn.\n",
      "3144 trainable vaiabless, training with float32 precision.\n",
      "INFO:tensorflow:Done calling model_fn.\n",
      "INFO:tensorflow:Create CheckpointSaverHook.\n",
      "INFO:tensorflow:Graph was finalized.\n",
      "INFO:tensorflow:Running local_init_op.\n",
      "INFO:tensorflow:Done running local_init_op.\n",
      "INFO:tensorflow:Calling checkpoint listeners before saving checkpoint 0...\n",
      "INFO:tensorflow:Saving checkpoints for 0 into /tmp/PiNet/model.ckpt.\n",
      "INFO:tensorflow:Calling checkpoint listeners after saving checkpoint 0...\n",
      "INFO:tensorflow:loss = 27.281277, step = 0\n",
      "INFO:tensorflow:global_step/sec: 22.7773\n",
      "INFO:tensorflow:loss = 7.8507977, step = 100 (4.395 sec)\n",
      "INFO:tensorflow:global_step/sec: 25.9415\n",
      "INFO:tensorflow:loss = 2.2271044, step = 200 (3.853 sec)\n",
      "INFO:tensorflow:global_step/sec: 26.0115\n",
      "INFO:tensorflow:loss = 1.2804471, step = 300 (3.845 sec)\n",
      "INFO:tensorflow:global_step/sec: 26.0635\n",
      "INFO:tensorflow:loss = 0.49753517, step = 400 (3.836 sec)\n",
      "INFO:tensorflow:global_step/sec: 26.4857\n",
      "INFO:tensorflow:loss = 0.2935739, step = 500 (3.776 sec)\n",
      "INFO:tensorflow:global_step/sec: 25.7152\n",
      "INFO:tensorflow:loss = 0.16711389, step = 600 (3.891 sec)\n",
      "INFO:tensorflow:global_step/sec: 25.8907\n",
      "INFO:tensorflow:loss = 0.14428869, step = 700 (3.862 sec)\n",
      "INFO:tensorflow:global_step/sec: 26.2952\n",
      "INFO:tensorflow:loss = 0.11836906, step = 800 (3.803 sec)\n",
      "INFO:tensorflow:global_step/sec: 26.2384\n",
      "INFO:tensorflow:loss = 0.08258414, step = 900 (3.810 sec)\n",
      "INFO:tensorflow:global_step/sec: 26.3372\n",
      "INFO:tensorflow:loss = 0.08278044, step = 1000 (3.799 sec)\n",
      "INFO:tensorflow:global_step/sec: 26.3658\n",
      "INFO:tensorflow:loss = 0.0660594, step = 1100 (3.791 sec)\n",
      "INFO:tensorflow:global_step/sec: 26.251\n",
      "INFO:tensorflow:loss = 0.058122583, step = 1200 (3.811 sec)\n",
      "INFO:tensorflow:global_step/sec: 26.4889\n",
      "INFO:tensorflow:loss = 0.051829554, step = 1300 (3.773 sec)\n",
      "INFO:tensorflow:global_step/sec: 25.7644\n",
      "INFO:tensorflow:loss = 0.041767728, step = 1400 (3.884 sec)\n",
      "INFO:tensorflow:global_step/sec: 26.0476\n",
      "INFO:tensorflow:loss = 0.038753144, step = 1500 (3.836 sec)\n",
      "INFO:tensorflow:global_step/sec: 26.2406\n",
      "INFO:tensorflow:loss = 0.028446544, step = 1600 (3.811 sec)\n",
      "INFO:tensorflow:global_step/sec: 26.3364\n",
      "INFO:tensorflow:loss = 0.025432285, step = 1700 (3.798 sec)\n",
      "INFO:tensorflow:global_step/sec: 26.1932\n",
      "INFO:tensorflow:loss = 0.026734853, step = 1800 (3.817 sec)\n",
      "INFO:tensorflow:global_step/sec: 26.6931\n",
      "INFO:tensorflow:loss = 0.023650557, step = 1900 (3.748 sec)\n",
      "INFO:tensorflow:global_step/sec: 26.591\n",
      "INFO:tensorflow:loss = 0.016523186, step = 2000 (3.759 sec)\n",
      "INFO:tensorflow:global_step/sec: 26.074\n",
      "INFO:tensorflow:loss = 0.040270817, step = 2100 (3.838 sec)\n",
      "INFO:tensorflow:global_step/sec: 26.5909\n",
      "INFO:tensorflow:loss = 0.011902837, step = 2200 (3.759 sec)\n",
      "INFO:tensorflow:global_step/sec: 25.7921\n",
      "INFO:tensorflow:loss = 0.011734143, step = 2300 (3.878 sec)\n",
      "INFO:tensorflow:global_step/sec: 26.5367\n",
      "INFO:tensorflow:loss = 0.009928873, step = 2400 (3.767 sec)\n",
      "INFO:tensorflow:global_step/sec: 26.4169\n",
      "INFO:tensorflow:loss = 0.009528267, step = 2500 (3.786 sec)\n",
      "INFO:tensorflow:global_step/sec: 26.2006\n",
      "INFO:tensorflow:loss = 0.01020597, step = 2600 (3.817 sec)\n",
      "INFO:tensorflow:global_step/sec: 25.9426\n",
      "INFO:tensorflow:loss = 0.061009265, step = 2700 (3.856 sec)\n",
      "INFO:tensorflow:global_step/sec: 26.7862\n",
      "INFO:tensorflow:loss = 0.0068407324, step = 2800 (3.731 sec)\n",
      "INFO:tensorflow:global_step/sec: 26.7311\n",
      "INFO:tensorflow:loss = 0.0072242287, step = 2900 (3.741 sec)\n",
      "INFO:tensorflow:global_step/sec: 26.774\n",
      "INFO:tensorflow:loss = 0.00929291, step = 3000 (3.735 sec)\n",
      "INFO:tensorflow:global_step/sec: 26.5968\n",
      "INFO:tensorflow:loss = 0.014111148, step = 3100 (3.761 sec)\n",
      "INFO:tensorflow:global_step/sec: 26.6131\n",
      "INFO:tensorflow:loss = 0.005511364, step = 3200 (3.757 sec)\n",
      "INFO:tensorflow:global_step/sec: 26.8536\n",
      "INFO:tensorflow:loss = 0.005808981, step = 3300 (3.723 sec)\n",
      "INFO:tensorflow:global_step/sec: 26.1931\n",
      "INFO:tensorflow:loss = 0.0052162735, step = 3400 (3.818 sec)\n",
      "INFO:tensorflow:global_step/sec: 26.2091\n",
      "INFO:tensorflow:loss = 0.010751283, step = 3500 (3.815 sec)\n",
      "INFO:tensorflow:global_step/sec: 26.3531\n",
      "INFO:tensorflow:loss = 0.008671202, step = 3600 (3.795 sec)\n",
      "INFO:tensorflow:global_step/sec: 26.5683\n",
      "INFO:tensorflow:loss = 0.006560674, step = 3700 (3.763 sec)\n",
      "INFO:tensorflow:global_step/sec: 26.1785\n",
      "INFO:tensorflow:loss = 0.006895827, step = 3800 (3.822 sec)\n",
      "INFO:tensorflow:global_step/sec: 26.1249\n",
      "INFO:tensorflow:loss = 0.005787906, step = 3900 (3.828 sec)\n",
      "INFO:tensorflow:global_step/sec: 26.385\n",
      "INFO:tensorflow:loss = 0.004237067, step = 4000 (3.790 sec)\n",
      "INFO:tensorflow:global_step/sec: 27.0324\n",
      "INFO:tensorflow:loss = 0.0038312532, step = 4100 (3.698 sec)\n",
      "INFO:tensorflow:global_step/sec: 26.403\n",
      "INFO:tensorflow:loss = 0.0043197144, step = 4200 (3.788 sec)\n",
      "INFO:tensorflow:global_step/sec: 26.371\n",
      "INFO:tensorflow:loss = 0.005455108, step = 4300 (3.792 sec)\n",
      "INFO:tensorflow:global_step/sec: 26.2517\n",
      "INFO:tensorflow:loss = 0.0034007416, step = 4400 (3.810 sec)\n",
      "INFO:tensorflow:global_step/sec: 26.3968\n",
      "INFO:tensorflow:loss = 0.005534014, step = 4500 (3.788 sec)\n",
      "INFO:tensorflow:global_step/sec: 25.9511\n",
      "INFO:tensorflow:loss = 0.0038943952, step = 4600 (3.854 sec)\n",
      "INFO:tensorflow:global_step/sec: 26.5172\n",
      "INFO:tensorflow:loss = 0.003998718, step = 4700 (3.771 sec)\n",
      "INFO:tensorflow:global_step/sec: 26.8025\n",
      "INFO:tensorflow:loss = 0.0040150285, step = 4800 (3.731 sec)\n",
      "INFO:tensorflow:global_step/sec: 26.4107\n",
      "INFO:tensorflow:loss = 0.025866305, step = 4900 (3.787 sec)\n",
      "INFO:tensorflow:Calling checkpoint listeners before saving checkpoint 5000...\n",
      "INFO:tensorflow:Saving checkpoints for 5000 into /tmp/PiNet/model.ckpt.\n",
      "INFO:tensorflow:Calling checkpoint listeners after saving checkpoint 5000...\n",
      "INFO:tensorflow:Calling model_fn.\n",
      "INFO:tensorflow:Done calling model_fn.\n",
      "INFO:tensorflow:Starting evaluation at 2021-05-24T23:34:22Z\n",
      "INFO:tensorflow:Graph was finalized.\n",
      "INFO:tensorflow:Restoring parameters from /tmp/PiNet/model.ckpt-5000\n",
      "INFO:tensorflow:Running local_init_op.\n",
      "INFO:tensorflow:Done running local_init_op.\n",
      "INFO:tensorflow:Evaluation [1/10]\n",
      "INFO:tensorflow:Evaluation [2/10]\n",
      "INFO:tensorflow:Evaluation [3/10]\n",
      "INFO:tensorflow:Evaluation [4/10]\n",
      "INFO:tensorflow:Evaluation [5/10]\n",
      "INFO:tensorflow:Evaluation [6/10]\n",
      "INFO:tensorflow:Evaluation [7/10]\n",
      "INFO:tensorflow:Evaluation [8/10]\n",
      "INFO:tensorflow:Evaluation [9/10]\n",
      "INFO:tensorflow:Evaluation [10/10]\n",
      "INFO:tensorflow:Inference Time : 1.36541s\n",
      "INFO:tensorflow:Finished evaluation at 2021-05-24-23:34:23\n",
      "INFO:tensorflow:Saving dict for global step 5000: METRICS/E_LOSS = 2.4596975e-05, METRICS/E_MAE = 0.0038156472, METRICS/E_PER_ATOM_MAE = 0.0012718836, METRICS/E_PER_ATOM_RMSE = 0.0016531788, METRICS/E_RMSE = 0.004959534, METRICS/F_LOSS = 0.0056514735, METRICS/F_MAE = 0.031843703, METRICS/F_RMSE = 0.07517628, global_step = 5000, loss = 0.005676071\n",
      "INFO:tensorflow:Saving 'checkpoint_path' summary for global step 5000: /tmp/PiNet/model.ckpt-5000\n",
      "INFO:tensorflow:Loss for final step: 0.003072825.\n"
     ]
    },
    {
     "data": {
      "text/plain": [
       "({'METRICS/E_LOSS': 2.4596975e-05,\n",
       "  'METRICS/E_MAE': 0.0038156472,\n",
       "  'METRICS/E_PER_ATOM_MAE': 0.0012718836,\n",
       "  'METRICS/E_PER_ATOM_RMSE': 0.0016531788,\n",
       "  'METRICS/E_RMSE': 0.004959534,\n",
       "  'METRICS/F_LOSS': 0.0056514735,\n",
       "  'METRICS/F_MAE': 0.031843703,\n",
       "  'METRICS/F_RMSE': 0.07517628,\n",
       "  'loss': 0.005676071,\n",
       "  'global_step': 5000},\n",
       " [])"
      ]
     },
     "execution_count": 10,
     "metadata": {},
     "output_type": "execute_result"
    }
   ],
   "source": [
    "%rm -rf /tmp/PiNet\n",
    "train_spec = tf.estimator.TrainSpec(input_fn=train, max_steps=5e3)\n",
    "eval_spec = tf.estimator.EvalSpec(input_fn=test, steps=10)\n",
    "tf.estimator.train_and_evaluate(model, train_spec, eval_spec)"
   ]
  },
  {
   "cell_type": "markdown",
   "metadata": {},
   "source": [
    "## Validate the results\n",
    "### PES analysis"
   ]
  },
  {
   "cell_type": "code",
   "execution_count": 11,
   "metadata": {},
   "outputs": [
    {
     "name": "stdout",
     "output_type": "stream",
     "text": [
      "INFO:tensorflow:Calling model_fn.\n",
      "INFO:tensorflow:Done calling model_fn.\n",
      "INFO:tensorflow:Graph was finalized.\n",
      "INFO:tensorflow:Restoring parameters from /tmp/PiNet/model.ckpt-5000\n",
      "INFO:tensorflow:Running local_init_op.\n",
      "INFO:tensorflow:Done running local_init_op.\n"
     ]
    }
   ],
   "source": [
    "atoms = Atoms('H3', calculator=PiNN_calc(model))\n",
    "epred = np.zeros([na, nr])\n",
    "for i in range(na):\n",
    "    for j in range(nr):\n",
    "        a, r = arange[i], rrange[j]\n",
    "        atoms = three_body_sample(atoms, a, r)\n",
    "        epred[i,j] = atoms.get_potential_energy()"
   ]
  },
  {
   "cell_type": "code",
   "execution_count": 12,
   "metadata": {},
   "outputs": [
    {
     "data": {
      "text/plain": [
       "<matplotlib.colorbar.Colorbar at 0x7fc5b03db5c0>"
      ]
     },
     "execution_count": 12,
     "metadata": {},
     "output_type": "execute_result"
    },
    {
     "data": {
      "image/png": "[encoded data removed]",
      "text/plain": [
       "<Figure size 432x288 with 2 Axes>"
      ]
     },
     "metadata": {
      "needs_background": "light"
     },
     "output_type": "display_data"
    },
    {
     "data": {
      "image/png": "[encoded data removed]",
      "text/plain": [
       "<Figure size 432x288 with 2 Axes>"
      ]
     },
     "metadata": {
      "needs_background": "light"
     },
     "output_type": "display_data"
    }
   ],
   "source": [
    "plt.pcolormesh(agrid, rgrid, epred)\n",
    "plt.colorbar()\n",
    "plt.title('NN predicted PES')\n",
    "plt.figure()\n",
    "plt.pcolormesh(agrid, rgrid, np.abs(egrid-epred))\n",
    "plt.plot(asample, rsample, 'rx')\n",
    "plt.title('NN Prediction error and sampled points')\n",
    "plt.colorbar()"
   ]
  },
  {
   "cell_type": "markdown",
   "metadata": {},
   "source": [
    "### Pairwise potential analysis"
   ]
  },
  {
   "cell_type": "code",
   "execution_count": 13,
   "metadata": {},
   "outputs": [
    {
     "name": "stdout",
     "output_type": "stream",
     "text": [
      "INFO:tensorflow:Calling model_fn.\n",
      "INFO:tensorflow:Done calling model_fn.\n",
      "INFO:tensorflow:Graph was finalized.\n",
      "INFO:tensorflow:Restoring parameters from /tmp/PiNet/model.ckpt-5000\n",
      "INFO:tensorflow:Running local_init_op.\n",
      "INFO:tensorflow:Done running local_init_op.\n"
     ]
    }
   ],
   "source": [
    "atoms1 = Atoms('H2', calculator=PiNN_calc(model))\n",
    "atoms2 = Atoms('H2', calculator=LennardJones())\n",
    "\n",
    "nr2 = 100\n",
    "rrange2 = np.linspace(1,1.9,nr2)\n",
    "epred = np.zeros(nr2)\n",
    "etrue = np.zeros(nr2)\n",
    "\n",
    "for i in range(nr2):\n",
    "    pos = [[0, 0, 0],\n",
    "           [rrange2[i], 0, 0]]\n",
    "    atoms1.set_positions(pos)\n",
    "    atoms2.set_positions(pos)\n",
    "    epred[i] = atoms1.get_potential_energy()\n",
    "    etrue[i] = atoms2.get_potential_energy()"
   ]
  },
  {
   "cell_type": "code",
   "execution_count": 14,
   "metadata": {},
   "outputs": [
    {
     "data": {
      "image/png": "[encoded data removed]",
      "text/plain": [
       "<Figure size 432x288 with 2 Axes>"
      ]
     },
     "metadata": {
      "needs_background": "light"
     },
     "output_type": "display_data"
    }
   ],
   "source": [
    "f, (ax1, ax2) = plt.subplots(2,1, gridspec_kw = {'height_ratios':[3, 1]})\n",
    "ax1.plot(rrange2, epred)\n",
    "ax1.plot(rrange2, etrue,'--')\n",
    "ax1.legend(['Prediction', 'Truth'], loc=4)\n",
    "_=ax2.hist(np.concatenate(distsample,0), 20, range=(1,1.9))"
   ]
  },
  {
   "cell_type": "markdown",
   "metadata": {},
   "source": [
    "## Molecular dynamics with ASE"
   ]
  },
  {
   "cell_type": "code",
   "execution_count": 15,
   "metadata": {},
   "outputs": [],
   "source": [
    "from ase import units\n",
    "from ase.io import Trajectory\n",
    "from ase.md.nvtberendsen import NVTBerendsen\n",
    "from ase.md.velocitydistribution import MaxwellBoltzmannDistribution"
   ]
  },
  {
   "cell_type": "code",
   "execution_count": null,
   "metadata": {},
   "outputs": [],
   "source": [
    "atoms = Atoms('H', cell=[2, 2, 2], pbc=True)\n",
    "atoms = atoms.repeat([5,5,5])\n",
    "atoms.rattle()\n",
    "atoms.set_calculator(PiNN_calc(model))\n",
    "MaxwellBoltzmannDistribution(atoms, 300*units.kB)\n",
    "dyn = NVTBerendsen(atoms, 0.5 * units.fs, 300, taut=0.5*100*units.fs)\n",
    "dyn.attach(Trajectory('ase_nvt.traj', 'w', atoms).write, interval=10)\n",
    "dyn.run(5000)"
   ]
  }
 ],
 "metadata": {
  "kernelspec": {
   "display_name": "Python 3",
   "language": "python",
   "name": "python3"
  },
  "language_info": {
   "codemirror_mode": {
    "name": "ipython",
    "version": 3
   },
   "file_extension": ".py",
   "mimetype": "text/x-python",
   "name": "python",
   "nbconvert_exporter": "python",
   "pygments_lexer": "ipython3",
   "version": "3.6.10"
  }
 },
 "nbformat": 4,
 "nbformat_minor": 4
}
