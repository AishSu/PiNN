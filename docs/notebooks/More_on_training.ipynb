{
 "cells": [
  {
   "cell_type": "markdown",
   "metadata": {},
   "source": [
    "# Optimizing the training\n",
    "\n",
    "This notebooks covers more details on tweaking and optimizing the training process."
   ]
  },
  {
   "cell_type": "code",
   "execution_count": 1,
   "metadata": {},
   "outputs": [],
   "source": [
    "import os, warnings\n",
    "import tensorflow as tf\n",
    "\n",
    "import matplotlib.pyplot as plt\n",
    "\n",
    "from glob import glob\n",
    "from pinn.io import load_qm9, sparse_batch\n",
    "from pinn.networks import PiNet\n",
    "from pinn.utils import get_atomic_dress\n",
    "from pinn import get_model, get_network\n",
    "\n",
    "os.environ['CUDA_VISIBLE_DEVICES'] = ''\n",
    "index_warning = 'Converting sparse IndexedSlices'\n",
    "warnings.filterwarnings('ignore', index_warning)"
   ]
  },
  {
   "cell_type": "markdown",
   "metadata": {},
   "source": [
    "## Optimizing the pipeline\n",
    "### Caching\n",
    "Caching stores the decoded dataset in the memory."
   ]
  },
  {
   "cell_type": "code",
   "execution_count": 2,
   "metadata": {},
   "outputs": [],
   "source": [
    "# For the purpose of testing, we use only 1000 samples from QM9\n",
    "filelist = glob('/home/yunqi/datasets/QM9/dsgdb9nsd/*.xyz')[:1000]\n",
    "dataset = lambda: load_qm9(filelist, split=1)"
   ]
  },
  {
   "cell_type": "code",
   "execution_count": 3,
   "metadata": {},
   "outputs": [
    {
     "name": "stdout",
     "output_type": "stream",
     "text": [
      "91 ms ± 8.11 ms per loop (mean ± std. dev. of 7 runs, 10 loops each)\n"
     ]
    }
   ],
   "source": [
    "ds = dataset().repeat().apply(sparse_batch(100))\n",
    "tensors = ds.as_numpy_iterator()\n",
    "for i in range(10):\n",
    "    next(tensors) # \"Warm up\" the graph\n",
    "%timeit next(tensors)"
   ]
  },
  {
   "cell_type": "markdown",
   "metadata": {},
   "source": [
    "This speed indicates the IO limit of our current setting.\n",
    "\n",
    "Now let's cache the dataset to the memory."
   ]
  },
  {
   "cell_type": "code",
   "execution_count": 4,
   "metadata": {},
   "outputs": [
    {
     "name": "stdout",
     "output_type": "stream",
     "text": [
      "229 µs ± 2.6 µs per loop (mean ± std. dev. of 7 runs, 1000 loops each)\n"
     ]
    }
   ],
   "source": [
    "ds = dataset().cache().repeat().apply(sparse_batch(100))\n",
    "tensors = ds.as_numpy_iterator()\n",
    "for i in range(10):\n",
    "    next(tensors) # \"Warm up\" the graph\n",
    "%timeit next(tensors)"
   ]
  },
  {
   "cell_type": "markdown",
   "metadata": {},
   "source": [
    "### Preprocessing\n",
    "You might also see a notable difference in the performance with and without preprocessing. This is especially helpful when you are training with GPUs."
   ]
  },
  {
   "cell_type": "code",
   "execution_count": 5,
   "metadata": {},
   "outputs": [
    {
     "name": "stdout",
     "output_type": "stream",
     "text": [
      "93.3 ms ± 1.08 ms per loop (mean ± std. dev. of 7 runs, 10 loops each)\n"
     ]
    }
   ],
   "source": [
    "pinet = PiNet()\n",
    "ds = dataset().cache().repeat().apply(sparse_batch(100))\n",
    "tensors = ds.as_numpy_iterator()\n",
    "for i in range(10):\n",
    "    pinet(next(tensors)) # \"Warm up\" the graph\n",
    "%timeit pinet(next(tensors))"
   ]
  },
  {
   "cell_type": "code",
   "execution_count": 6,
   "metadata": {},
   "outputs": [
    {
     "name": "stdout",
     "output_type": "stream",
     "text": [
      "8.92 ms ± 80.8 µs per loop (mean ± std. dev. of 7 runs, 100 loops each)\n"
     ]
    }
   ],
   "source": [
    "pinet = PiNet()\n",
    "ds = dataset().cache().repeat().apply(sparse_batch(100)).map(pinet.preprocess)\n",
    "tensors = ds.as_numpy_iterator()\n",
    "for i in range(10):\n",
    "    next(tensors) # \"Warm up\" the graph\n",
    "%timeit next(tensors)"
   ]
  },
  {
   "cell_type": "markdown",
   "metadata": {},
   "source": [
    "You can even cache the preprocessed data."
   ]
  },
  {
   "cell_type": "code",
   "execution_count": 7,
   "metadata": {},
   "outputs": [
    {
     "name": "stdout",
     "output_type": "stream",
     "text": [
      "302 µs ± 1.95 µs per loop (mean ± std. dev. of 7 runs, 1000 loops each)\n"
     ]
    }
   ],
   "source": [
    "pinet = PiNet()\n",
    "ds = dataset().apply(sparse_batch(100)).map(pinet.preprocess).cache().repeat()\n",
    "tensors = ds.as_numpy_iterator()\n",
    "for i in range(10):\n",
    "    next(tensors) # \"Warm up\" the graph\n",
    "%timeit next(tensors)"
   ]
  },
  {
   "cell_type": "markdown",
   "metadata": {},
   "source": [
    "## Atomic dress\n",
    "Scaling and aligning the labels can \n",
    "enhance the performance of the models, and avoid numerical instability.\n",
    "For datasets like QM9, we can assign an atomic energy to each atom according\n",
    "to their elements to approximate the total energy. This can be done by a simple \n",
    "linear regression. We provide a simple tool to generate such \"atomic dresses\"."
   ]
  },
  {
   "cell_type": "code",
   "execution_count": 8,
   "metadata": {},
   "outputs": [],
   "source": [
    "filelist = glob('/home/yunqi/datasets/QM9/dsgdb9nsd/*.xyz')\n",
    "dataset = lambda: load_qm9(filelist, split={'train':8, 'test':2})\n",
    "dress, error = get_atomic_dress(dataset()['train'],[1,6,7,8,9])"
   ]
  },
  {
   "cell_type": "markdown",
   "metadata": {},
   "source": [
    "Applying the atomic dress converts the QM9 energies to a \"normal\" distribution.\n",
    "It also gives us some ideas about the relative distribution of energies, and \n",
    "how much our neural network improves from the naive guess of the atomic dress.\n",
    "\n",
    "After applying the atomic dress, it turns out that the distribution of our training set is only about 0.05 Hartree, or 30 kcal/mol."
   ]
  },
  {
   "cell_type": "code",
   "execution_count": 9,
   "metadata": {},
   "outputs": [
    {
     "data": {
      "text/plain": [
       "{1: -0.6037799981313403,\n",
       " 6: -38.07402501506566,\n",
       " 7: -54.74923962293655,\n",
       " 8: -75.22552333459345,\n",
       " 9: -99.866786827027}"
      ]
     },
     "execution_count": 9,
     "metadata": {},
     "output_type": "execute_result"
    },
    {
     "data": {
      "image/png": "[encoded data removed]",
      "text/plain": [
       "<Figure size 432x288 with 1 Axes>"
      ]
     },
     "metadata": {
      "needs_background": "light"
     },
     "output_type": "display_data"
    }
   ],
   "source": [
    "plt.hist(error,50)\n",
    "dress"
   ]
  },
  {
   "cell_type": "markdown",
   "metadata": {},
   "source": [
    "## Training with the optimized pipeline"
   ]
  },
  {
   "cell_type": "code",
   "execution_count": 10,
   "metadata": {},
   "outputs": [
    {
     "name": "stdout",
     "output_type": "stream",
     "text": [
      "INFO:tensorflow:Using config: {'_model_dir': '/tmp/PiNet_QM9_pipeline', '_tf_random_seed': None, '_save_summary_steps': 100, '_save_checkpoints_steps': None, '_save_checkpoints_secs': 600, '_session_config': allow_soft_placement: true\n",
      "graph_options {\n",
      "  rewrite_options {\n",
      "    meta_optimizer_iterations: ONE\n",
      "  }\n",
      "}\n",
      ", '_keep_checkpoint_max': 5, '_keep_checkpoint_every_n_hours': 10000, '_log_step_count_steps': 500, '_train_distribute': None, '_device_fn': None, '_protocol': None, '_eval_distribute': None, '_experimental_distribute': None, '_experimental_max_worker_delay_secs': None, '_session_creation_timeout_secs': 7200, '_service': None, '_cluster_spec': ClusterSpec({}), '_task_type': 'worker', '_task_id': 0, '_global_id_in_cluster': 0, '_master': '', '_evaluation_master': '', '_is_chief': True, '_num_ps_replicas': 0, '_num_worker_replicas': 1}\n"
     ]
    }
   ],
   "source": [
    "params = {'model_dir': '/tmp/PiNet_QM9_pipeline',\n",
    "          'network': {\n",
    "              'name': 'PiNet',\n",
    "              'params': {\n",
    "                  'atom_types':[1, 6, 7, 8, 9],\n",
    "              },\n",
    "          },\n",
    "          'model': {\n",
    "              'name': 'potential_model',\n",
    "              'params': {\n",
    "                  'learning_rate': 1e-3, # Relatively large learning rate\n",
    "                  'e_scale': 627.5, # Here we scale the model to kcal/mol\n",
    "                  'e_dress': dress\n",
    "              }\n",
    "          }\n",
    "         }\n",
    "\n",
    "# The logging behavior of estimator can be controlled here\n",
    "config = tf.estimator.RunConfig(log_step_count_steps=500)\n",
    "\n",
    "# Preprocessing the datasets\n",
    "model = get_model(params, config=config)\n",
    "network = get_network(model.params['network'])\n",
    "train = lambda: dataset()['train'].cache().repeat().shuffle(1000).apply(sparse_batch(100)).map(network.preprocess)\n",
    "test = lambda: dataset()['test'].cache().repeat().apply(sparse_batch(100)).map(network.preprocess)\n",
    "\n",
    "# Running specs\n",
    "train_spec = tf.estimator.TrainSpec(input_fn=train, max_steps=1e4)\n",
    "eval_spec = tf.estimator.EvalSpec(input_fn=test, steps=100)"
   ]
  },
  {
   "cell_type": "code",
   "execution_count": 11,
   "metadata": {},
   "outputs": [
    {
     "name": "stdout",
     "output_type": "stream",
     "text": [
      "INFO:tensorflow:Not using Distribute Coordinator.\n",
      "INFO:tensorflow:Running training and evaluation locally (non-distributed).\n",
      "INFO:tensorflow:Start train and evaluate loop. The evaluate will happen after every checkpoint. Checkpoint frequency is determined based on RunConfig arguments: save_checkpoints_steps None or save_checkpoints_secs 600.\n",
      "WARNING:tensorflow:From /home/yunqi/.miniconda/envs/pinn-tf2/lib/python3.6/site-packages/tensorflow/python/ops/resource_variable_ops.py:1666: calling BaseResourceVariable.__init__ (from tensorflow.python.ops.resource_variable_ops) with constraint is deprecated and will be removed in a future version.\n",
      "Instructions for updating:\n",
      "If using Keras pass *_constraint arguments to layers.\n",
      "WARNING:tensorflow:From /home/yunqi/.miniconda/envs/pinn-tf2/lib/python3.6/site-packages/tensorflow/python/training/training_util.py:236: Variable.initialized_value (from tensorflow.python.ops.variables) is deprecated and will be removed in a future version.\n",
      "Instructions for updating:\n",
      "Use Variable.read_value. Variables in 2.X are initialized automatically both in eager and graph (inside tf.defun) contexts.\n",
      "INFO:tensorflow:Calling model_fn.\n",
      "12112 trainable vaiabless, training with float32 precision.\n",
      "INFO:tensorflow:Done calling model_fn.\n",
      "INFO:tensorflow:Create CheckpointSaverHook.\n",
      "INFO:tensorflow:Graph was finalized.\n",
      "INFO:tensorflow:Restoring parameters from /tmp/PiNet_QM9_pipeline/model.ckpt-0\n",
      "WARNING:tensorflow:From /home/yunqi/.miniconda/envs/pinn-tf2/lib/python3.6/site-packages/tensorflow/python/training/saver.py:1077: get_checkpoint_mtimes (from tensorflow.python.training.checkpoint_management) is deprecated and will be removed in a future version.\n",
      "Instructions for updating:\n",
      "Use standard file utilities to get mtimes.\n",
      "INFO:tensorflow:Running local_init_op.\n",
      "INFO:tensorflow:Done running local_init_op.\n",
      "INFO:tensorflow:Calling checkpoint listeners before saving checkpoint 0...\n",
      "INFO:tensorflow:Saving checkpoints for 0 into /tmp/PiNet_QM9_pipeline/model.ckpt.\n",
      "INFO:tensorflow:Calling checkpoint listeners after saving checkpoint 0...\n",
      "INFO:tensorflow:loss = 1799.4893, step = 0\n",
      "INFO:tensorflow:global_step/sec: 10.6003\n",
      "INFO:tensorflow:loss = 227.12311, step = 500 (47.172 sec)\n",
      "INFO:tensorflow:global_step/sec: 10.6215\n",
      "INFO:tensorflow:loss = 208.0129, step = 1000 (47.074 sec)\n",
      "INFO:tensorflow:global_step/sec: 18.3237\n",
      "INFO:tensorflow:loss = 133.658, step = 1500 (27.288 sec)\n",
      "INFO:tensorflow:global_step/sec: 19.9476\n",
      "INFO:tensorflow:loss = 111.80755, step = 2000 (25.064 sec)\n",
      "INFO:tensorflow:global_step/sec: 20.1228\n",
      "INFO:tensorflow:loss = 97.51269, step = 2500 (24.848 sec)\n",
      "INFO:tensorflow:global_step/sec: 20.2691\n",
      "INFO:tensorflow:loss = 101.754845, step = 3000 (24.668 sec)\n",
      "INFO:tensorflow:global_step/sec: 20.434\n",
      "INFO:tensorflow:loss = 113.050156, step = 3500 (24.467 sec)\n",
      "INFO:tensorflow:global_step/sec: 20.1424\n",
      "INFO:tensorflow:loss = 82.18709, step = 4000 (24.824 sec)\n",
      "INFO:tensorflow:global_step/sec: 20.1541\n",
      "INFO:tensorflow:loss = 72.37217, step = 4500 (24.809 sec)\n",
      "INFO:tensorflow:global_step/sec: 20.1356\n",
      "INFO:tensorflow:loss = 222.4274, step = 5000 (24.830 sec)\n",
      "INFO:tensorflow:global_step/sec: 19.9117\n",
      "INFO:tensorflow:loss = 47.352596, step = 5500 (25.113 sec)\n",
      "INFO:tensorflow:global_step/sec: 20.1692\n",
      "INFO:tensorflow:loss = 112.23164, step = 6000 (24.789 sec)\n",
      "INFO:tensorflow:global_step/sec: 20.1829\n",
      "INFO:tensorflow:loss = 73.3073, step = 6500 (24.772 sec)\n",
      "INFO:tensorflow:global_step/sec: 20.1547\n",
      "INFO:tensorflow:loss = 116.43878, step = 7000 (24.810 sec)\n",
      "INFO:tensorflow:global_step/sec: 20.2492\n",
      "INFO:tensorflow:loss = 71.438324, step = 7500 (24.692 sec)\n",
      "INFO:tensorflow:global_step/sec: 20.158\n",
      "INFO:tensorflow:loss = 131.60344, step = 8000 (24.805 sec)\n",
      "INFO:tensorflow:global_step/sec: 20.1393\n",
      "INFO:tensorflow:loss = 76.99516, step = 8500 (24.826 sec)\n",
      "INFO:tensorflow:global_step/sec: 20.0094\n",
      "INFO:tensorflow:loss = 67.55921, step = 9000 (24.988 sec)\n",
      "INFO:tensorflow:global_step/sec: 20.2779\n",
      "INFO:tensorflow:loss = 129.96625, step = 9500 (24.657 sec)\n",
      "INFO:tensorflow:Calling checkpoint listeners before saving checkpoint 10000...\n",
      "INFO:tensorflow:Saving checkpoints for 10000 into /tmp/PiNet_QM9_pipeline/model.ckpt.\n",
      "INFO:tensorflow:Calling checkpoint listeners after saving checkpoint 10000...\n",
      "INFO:tensorflow:Calling model_fn.\n",
      "INFO:tensorflow:Done calling model_fn.\n",
      "INFO:tensorflow:Starting evaluation at 2021-05-24T23:30:49Z\n",
      "INFO:tensorflow:Graph was finalized.\n",
      "INFO:tensorflow:Restoring parameters from /tmp/PiNet_QM9_pipeline/model.ckpt-10000\n",
      "INFO:tensorflow:Running local_init_op.\n",
      "INFO:tensorflow:Done running local_init_op.\n",
      "INFO:tensorflow:Evaluation [10/100]\n",
      "INFO:tensorflow:Evaluation [20/100]\n",
      "INFO:tensorflow:Evaluation [30/100]\n",
      "INFO:tensorflow:Evaluation [40/100]\n",
      "INFO:tensorflow:Evaluation [50/100]\n",
      "INFO:tensorflow:Evaluation [60/100]\n",
      "INFO:tensorflow:Evaluation [70/100]\n",
      "INFO:tensorflow:Evaluation [80/100]\n",
      "INFO:tensorflow:Evaluation [90/100]\n",
      "INFO:tensorflow:Evaluation [100/100]\n",
      "INFO:tensorflow:Inference Time : 10.87499s\n",
      "INFO:tensorflow:Finished evaluation at 2021-05-24-23:30:59\n",
      "INFO:tensorflow:Saving dict for global step 10000: METRICS/E_LOSS = 68.0033, METRICS/E_MAE = 5.646359, METRICS/E_RMSE = 8.24641, global_step = 10000, loss = 68.0033\n",
      "INFO:tensorflow:Saving 'checkpoint_path' summary for global step 10000: /tmp/PiNet_QM9_pipeline/model.ckpt-10000\n",
      "INFO:tensorflow:Loss for final step: 64.2185.\n"
     ]
    },
    {
     "data": {
      "text/plain": [
       "({'METRICS/E_LOSS': 68.0033,\n",
       "  'METRICS/E_MAE': 5.646359,\n",
       "  'METRICS/E_RMSE': 8.24641,\n",
       "  'loss': 68.0033,\n",
       "  'global_step': 10000},\n",
       " [])"
      ]
     },
     "execution_count": 11,
     "metadata": {},
     "output_type": "execute_result"
    }
   ],
   "source": [
    "tf.estimator.train_and_evaluate(model, train_spec, eval_spec)"
   ]
  },
  {
   "cell_type": "markdown",
   "metadata": {},
   "source": [
    "## Monitoring\n",
    "It's recommended to monitor the training with Tensorboard instead of the stdout here.  \n",
    "Try `tensorboard --logdir /tmp`\n"
   ]
  },
  {
   "cell_type": "markdown",
   "metadata": {},
   "source": [
    "## Parallelization with tf.Estimator\n",
    "\n",
    "The estimator api makes it extremely easy to train on multiple GPUs."
   ]
  },
  {
   "cell_type": "code",
   "execution_count": null,
   "metadata": {},
   "outputs": [],
   "source": [
    "# suppose you have two cards\n",
    "distribution = tf.distribute.MirroredStrategy(2)\n",
    "config = tf.estimator.RunConfig(train_distribute=distribution)"
   ]
  },
  {
   "cell_type": "markdown",
   "metadata": {},
   "source": [
    "## Conclusions\n",
    "\n",
    "Congratulations! You can now train atomic neural networks with \n",
    "state-of-the-art accuracy and speed.\n",
    "\n",
    "\n",
    "But there's more. With PiNN, the components of ANNs are modulized.\n",
    "Read the following notebooks to see how you can build your own ANN. "
   ]
  }
 ],
 "metadata": {
  "kernelspec": {
   "display_name": "Python 3",
   "language": "python",
   "name": "python3"
  },
  "language_info": {
   "codemirror_mode": {
    "name": "ipython",
    "version": 3
   },
   "file_extension": ".py",
   "mimetype": "text/x-python",
   "name": "python",
   "nbconvert_exporter": "python",
   "pygments_lexer": "ipython3",
   "version": "3.6.10"
  }
 },
 "nbformat": 4,
 "nbformat_minor": 4
}
